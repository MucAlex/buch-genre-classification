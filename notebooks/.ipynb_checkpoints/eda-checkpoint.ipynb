{
 "cells": [
  {
   "cell_type": "code",
   "execution_count": 3,
   "id": "d6b4da39",
   "metadata": {},
   "outputs": [
    {
     "name": "stdout",
     "output_type": "stream",
     "text": [
      "C:\\Users\\arebmann\\Documents\\Python Scripts\\buecher_genres\n"
     ]
    }
   ],
   "source": [
    "cd .."
   ]
  },
  {
   "cell_type": "code",
   "execution_count": 5,
   "id": "3b81e28b",
   "metadata": {},
   "outputs": [],
   "source": [
    "from src.data import DataPreparation"
   ]
  },
  {
   "cell_type": "code",
   "execution_count": 29,
   "id": "49fb69a6",
   "metadata": {},
   "outputs": [],
   "source": [
    "train_prep = DataPreparation(file_path=r'.\\daten\\klappentext_train.txt',\n",
    "                            label_file_path=r'.\\daten\\klappentext_train_label.txt')\n"
   ]
  },
  {
   "cell_type": "code",
   "execution_count": 8,
   "id": "68076a7c",
   "metadata": {},
   "outputs": [],
   "source": [
    "label = train_prep.df_label"
   ]
  },
  {
   "cell_type": "code",
   "execution_count": 15,
   "id": "7c5f9d82",
   "metadata": {},
   "outputs": [],
   "source": [
    "label_melt = label.melt(id_vars=['isbn'], value_vars=label.columns[1:].tolist()).dropna(subset=['value'])"
   ]
  },
  {
   "cell_type": "code",
   "execution_count": 18,
   "id": "70a8a2b2",
   "metadata": {},
   "outputs": [
    {
     "data": {
      "text/plain": [
       "<AxesSubplot:>"
      ]
     },
     "execution_count": 18,
     "metadata": {},
     "output_type": "execute_result"
    },
    {
     "data": {
      "image/png": "[encoded data removed]",
      "text/plain": [
       "<Figure size 432x288 with 1 Axes>"
      ]
     },
     "metadata": {
      "needs_background": "light"
     },
     "output_type": "display_data"
    }
   ],
   "source": [
    "label_melt['value'].value_counts().plot(kind=\"bar\")\n",
    "# label imbalance is present"
   ]
  },
  {
   "cell_type": "code",
   "execution_count": 30,
   "id": "ee41414f",
   "metadata": {},
   "outputs": [
    {
     "name": "stdout",
     "output_type": "stream",
     "text": [
      "<class 'pandas.core.frame.DataFrame'>\n",
      "RangeIndex: 14548 entries, 0 to 14547\n",
      "Data columns (total 10 columns):\n",
      " #   Column                                      Non-Null Count  Dtype  \n",
      "---  ------                                      --------------  -----  \n",
      " 0   date                                        14548 non-null  object \n",
      " 1   {http://www.w3.org/XML/1998/namespace}lang  14548 non-null  object \n",
      " 2   title                                       14548 non-null  object \n",
      " 3   body                                        14537 non-null  object \n",
      " 4   copyright                                   14548 non-null  object \n",
      " 5   categories                                  0 non-null      float64\n",
      " 6   authors                                     14360 non-null  object \n",
      " 7   published                                   14548 non-null  object \n",
      " 8   isbn                                        14548 non-null  int64  \n",
      " 9   url                                         14548 non-null  object \n",
      "dtypes: float64(1), int64(1), object(8)\n",
      "memory usage: 1.1+ MB\n"
     ]
    }
   ],
   "source": [
    "train = train_prep.df_text\n",
    "train.info()\n",
    "# there are null values in column body. remove those before training"
   ]
  },
  {
   "cell_type": "code",
   "execution_count": 23,
   "id": "7efd981d",
   "metadata": {},
   "outputs": [],
   "source": [
    "train_label = train.merge(label, how='left', on='isbn')"
   ]
  },
  {
   "cell_type": "code",
   "execution_count": 24,
   "id": "a3fe0dea",
   "metadata": {},
   "outputs": [
    {
     "data": {
      "text/html": [
       "<div>\n",
       "<style scoped>\n",
       "    .dataframe tbody tr th:only-of-type {\n",
       "        vertical-align: middle;\n",
       "    }\n",
       "\n",
       "    .dataframe tbody tr th {\n",
       "        vertical-align: top;\n",
       "    }\n",
       "\n",
       "    .dataframe thead th {\n",
       "        text-align: right;\n",
       "    }\n",
       "</style>\n",
       "<table border=\"1\" class=\"dataframe\">\n",
       "  <thead>\n",
       "    <tr style=\"text-align: right;\">\n",
       "      <th></th>\n",
       "      <th>title</th>\n",
       "      <th>body</th>\n",
       "      <th>isbn</th>\n",
       "      <th>topic0</th>\n",
       "      <th>topic1</th>\n",
       "      <th>topic2</th>\n",
       "      <th>topic3</th>\n",
       "    </tr>\n",
       "  </thead>\n",
       "  <tbody>\n",
       "    <tr>\n",
       "      <th>11996</th>\n",
       "      <td>Zwölf tödliche Gaben 9</td>\n",
       "      <td>Bloody, brilliant, MacBride – der Meister mörd...</td>\n",
       "      <td>9783641134389</td>\n",
       "      <td>Literatur &amp; Unterhaltung</td>\n",
       "      <td>NaN</td>\n",
       "      <td>NaN</td>\n",
       "      <td>NaN</td>\n",
       "    </tr>\n",
       "    <tr>\n",
       "      <th>11101</th>\n",
       "      <td>Zwölf tödliche Gaben 10</td>\n",
       "      <td>Bloody, brilliant, MacBride – der Meister mörd...</td>\n",
       "      <td>9783641134419</td>\n",
       "      <td>Literatur &amp; Unterhaltung</td>\n",
       "      <td>NaN</td>\n",
       "      <td>NaN</td>\n",
       "      <td>NaN</td>\n",
       "    </tr>\n",
       "    <tr>\n",
       "      <th>2280</th>\n",
       "      <td>Hühnersuppe für die Seele</td>\n",
       "      <td>Canfield und Hansen wurden 1997 als die Nr. 1-...</td>\n",
       "      <td>9783442132096</td>\n",
       "      <td>Ganzheitliches Bewusstsein</td>\n",
       "      <td>NaN</td>\n",
       "      <td>NaN</td>\n",
       "      <td>NaN</td>\n",
       "    </tr>\n",
       "    <tr>\n",
       "      <th>12728</th>\n",
       "      <td>Hühnersuppe für die Seele</td>\n",
       "      <td>Canfield und Hansen wurden 1997 als die Nr. 1-...</td>\n",
       "      <td>9783442215461</td>\n",
       "      <td>Ganzheitliches Bewusstsein</td>\n",
       "      <td>NaN</td>\n",
       "      <td>NaN</td>\n",
       "      <td>NaN</td>\n",
       "    </tr>\n",
       "    <tr>\n",
       "      <th>7985</th>\n",
       "      <td>Rosch Haschana</td>\n",
       "      <td>Ein Gebetbuch ist der öffentlichste und zuglei...</td>\n",
       "      <td>9783579025995</td>\n",
       "      <td>Glaube &amp; Ethik</td>\n",
       "      <td>NaN</td>\n",
       "      <td>NaN</td>\n",
       "      <td>NaN</td>\n",
       "    </tr>\n",
       "    <tr>\n",
       "      <th>9963</th>\n",
       "      <td>Jom Kippur</td>\n",
       "      <td>Ein Gebetbuch ist der öffentlichste und zuglei...</td>\n",
       "      <td>9783579074108</td>\n",
       "      <td>Glaube &amp; Ethik</td>\n",
       "      <td>NaN</td>\n",
       "      <td>NaN</td>\n",
       "      <td>NaN</td>\n",
       "    </tr>\n",
       "    <tr>\n",
       "      <th>12692</th>\n",
       "      <td>Der kleine Drache Kokosnuss feiert Weihnachten</td>\n",
       "      <td>Es ist Winter und der kleine Drache Kokosnuss ...</td>\n",
       "      <td>9783570175644</td>\n",
       "      <td>Kinderbuch &amp; Jugendbuch</td>\n",
       "      <td>NaN</td>\n",
       "      <td>NaN</td>\n",
       "      <td>NaN</td>\n",
       "    </tr>\n",
       "    <tr>\n",
       "      <th>10442</th>\n",
       "      <td>Der kleine Drache Kokosnuss feiert Weihnachten</td>\n",
       "      <td>Es ist Winter und der kleine Drache Kokosnuss ...</td>\n",
       "      <td>9783570175651</td>\n",
       "      <td>Kinderbuch &amp; Jugendbuch</td>\n",
       "      <td>NaN</td>\n",
       "      <td>NaN</td>\n",
       "      <td>NaN</td>\n",
       "    </tr>\n",
       "    <tr>\n",
       "      <th>11485</th>\n",
       "      <td>Warum wir die Adventszeit lieben</td>\n",
       "      <td>Wie sieht der perfekte Adventskalender aus? Wa...</td>\n",
       "      <td>9783453604797</td>\n",
       "      <td>Sachbuch</td>\n",
       "      <td>NaN</td>\n",
       "      <td>NaN</td>\n",
       "      <td>NaN</td>\n",
       "    </tr>\n",
       "    <tr>\n",
       "      <th>7078</th>\n",
       "      <td>Alle Jahre wieder...</td>\n",
       "      <td>Wie sieht der perfekte Adventskalender aus? Wa...</td>\n",
       "      <td>9783453604803</td>\n",
       "      <td>Sachbuch</td>\n",
       "      <td>NaN</td>\n",
       "      <td>NaN</td>\n",
       "      <td>NaN</td>\n",
       "    </tr>\n",
       "    <tr>\n",
       "      <th>8436</th>\n",
       "      <td>Quantenheilung für jeden - Körperliche Beschwe...</td>\n",
       "      <td>»Quantenheilung« ist derzeit eines der Top-The...</td>\n",
       "      <td>9783442339662</td>\n",
       "      <td>Ganzheitliches Bewusstsein</td>\n",
       "      <td>NaN</td>\n",
       "      <td>NaN</td>\n",
       "      <td>NaN</td>\n",
       "    </tr>\n",
       "    <tr>\n",
       "      <th>10653</th>\n",
       "      <td>Quantenheilung für jeden - Seelische Beschwerd...</td>\n",
       "      <td>»Quantenheilung« ist derzeit eines der Top-The...</td>\n",
       "      <td>9783442339679</td>\n",
       "      <td>Ganzheitliches Bewusstsein</td>\n",
       "      <td>Ratgeber</td>\n",
       "      <td>NaN</td>\n",
       "      <td>NaN</td>\n",
       "    </tr>\n",
       "  </tbody>\n",
       "</table>\n",
       "</div>"
      ],
      "text/plain": [
       "                                                   title  ... topic3\n",
       "11996                             Zwölf tödliche Gaben 9  ...    NaN\n",
       "11101                            Zwölf tödliche Gaben 10  ...    NaN\n",
       "2280                           Hühnersuppe für die Seele  ...    NaN\n",
       "12728                          Hühnersuppe für die Seele  ...    NaN\n",
       "7985                                      Rosch Haschana  ...    NaN\n",
       "9963                                          Jom Kippur  ...    NaN\n",
       "12692     Der kleine Drache Kokosnuss feiert Weihnachten  ...    NaN\n",
       "10442     Der kleine Drache Kokosnuss feiert Weihnachten  ...    NaN\n",
       "11485                   Warum wir die Adventszeit lieben  ...    NaN\n",
       "7078                                Alle Jahre wieder...  ...    NaN\n",
       "8436   Quantenheilung für jeden - Körperliche Beschwe...  ...    NaN\n",
       "10653  Quantenheilung für jeden - Seelische Beschwerd...  ...    NaN\n",
       "\n",
       "[12 rows x 7 columns]"
      ]
     },
     "execution_count": 24,
     "metadata": {},
     "output_type": "execute_result"
    }
   ],
   "source": [
    "(train_label[(train_label['body'].notna()) & (train_label[['body']].duplicated(keep=False))]\n",
    " .sort_values(['body', 'isbn'])[['title', 'body', 'isbn', 'topic0', 'topic1', 'topic2', 'topic3']])\n",
    "# duplicate texts in dataset. in this case I will remove them all from the data, but otherwise should be discussed with experts"
   ]
  },
  {
   "cell_type": "code",
   "execution_count": 25,
   "id": "c03f04f0",
   "metadata": {},
   "outputs": [],
   "source": [
    "test_prep = DataPreparation(file_path=r'.\\daten\\klappentext_test.txt',\n",
    "                            label_file_path=r'.\\daten\\klappentext_test_label.txt')\n"
   ]
  },
  {
   "cell_type": "code",
   "execution_count": 26,
   "id": "14d48dfb",
   "metadata": {},
   "outputs": [
    {
     "data": {
      "text/plain": [
       "<AxesSubplot:>"
      ]
     },
     "execution_count": 26,
     "metadata": {},
     "output_type": "execute_result"
    },
    {
     "data": {
      "image/png": "[encoded data removed]",
      "text/plain": [
       "<Figure size 432x288 with 1 Axes>"
      ]
     },
     "metadata": {
      "needs_background": "light"
     },
     "output_type": "display_data"
    }
   ],
   "source": [
    "label_test = test_prep.df_label\n",
    "label_melt = label_test.melt(id_vars=['isbn'], value_vars=label_test.columns[1:].tolist()).dropna(subset=['value'])\n",
    "label_melt['value'].value_counts().plot(kind=\"bar\")"
   ]
  },
  {
   "cell_type": "code",
   "execution_count": 28,
   "id": "b65ef25d",
   "metadata": {},
   "outputs": [
    {
     "data": {
      "text/html": [
       "<div>\n",
       "<style scoped>\n",
       "    .dataframe tbody tr th:only-of-type {\n",
       "        vertical-align: middle;\n",
       "    }\n",
       "\n",
       "    .dataframe tbody tr th {\n",
       "        vertical-align: top;\n",
       "    }\n",
       "\n",
       "    .dataframe thead th {\n",
       "        text-align: right;\n",
       "    }\n",
       "</style>\n",
       "<table border=\"1\" class=\"dataframe\">\n",
       "  <thead>\n",
       "    <tr style=\"text-align: right;\">\n",
       "      <th></th>\n",
       "      <th>title</th>\n",
       "      <th>body</th>\n",
       "      <th>isbn</th>\n",
       "      <th>topic0</th>\n",
       "      <th>topic1</th>\n",
       "      <th>topic2</th>\n",
       "      <th>topic3</th>\n",
       "    </tr>\n",
       "  </thead>\n",
       "  <tbody>\n",
       "  </tbody>\n",
       "</table>\n",
       "</div>"
      ],
      "text/plain": [
       "Empty DataFrame\n",
       "Columns: [title, body, isbn, topic0, topic1, topic2, topic3]\n",
       "Index: []"
      ]
     },
     "execution_count": 28,
     "metadata": {},
     "output_type": "execute_result"
    }
   ],
   "source": [
    "test = test_prep.df_text\n",
    "test_label = test.merge(label_test, how='left', on='isbn')\n",
    "(test_label[(test_label['body'].notna()) & (test_label[['body']].duplicated(keep=False))]\n",
    " .sort_values(['body', 'isbn'])[['title', 'body', 'isbn', 'topic0', 'topic1', 'topic2', 'topic3']])\n",
    "# no duplicates based on body"
   ]
  },
  {
   "cell_type": "code",
   "execution_count": 31,
   "id": "7390e9e3",
   "metadata": {},
   "outputs": [
    {
     "name": "stdout",
     "output_type": "stream",
     "text": [
      "<class 'pandas.core.frame.DataFrame'>\n",
      "RangeIndex: 4157 entries, 0 to 4156\n",
      "Data columns (total 10 columns):\n",
      " #   Column                                      Non-Null Count  Dtype  \n",
      "---  ------                                      --------------  -----  \n",
      " 0   date                                        4157 non-null   object \n",
      " 1   {http://www.w3.org/XML/1998/namespace}lang  4157 non-null   object \n",
      " 2   title                                       4157 non-null   object \n",
      " 3   body                                        4157 non-null   object \n",
      " 4   copyright                                   4157 non-null   object \n",
      " 5   categories                                  0 non-null      float64\n",
      " 6   authors                                     4115 non-null   object \n",
      " 7   published                                   4157 non-null   object \n",
      " 8   isbn                                        4157 non-null   int64  \n",
      " 9   url                                         4157 non-null   object \n",
      "dtypes: float64(1), int64(1), object(8)\n",
      "memory usage: 324.9+ KB\n"
     ]
    }
   ],
   "source": [
    "test.info()\n",
    "# no null values in body column of test set, but in authors"
   ]
  }
 ],
 "metadata": {
  "kernelspec": {
   "display_name": "Python 3 (ipykernel)",
   "language": "python",
   "name": "python3"
  },
  "language_info": {
   "codemirror_mode": {
    "name": "ipython",
    "version": 3
   },
   "file_extension": ".py",
   "mimetype": "text/x-python",
   "name": "python",
   "nbconvert_exporter": "python",
   "pygments_lexer": "ipython3",
   "version": "3.8.10"
  }
 },
 "nbformat": 4,
 "nbformat_minor": 5
}
