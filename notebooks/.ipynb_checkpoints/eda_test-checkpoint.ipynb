{
 "cells": [
  {
   "cell_type": "code",
   "execution_count": 1,
   "id": "a28f820c",
   "metadata": {},
   "outputs": [],
   "source": [
    "import pandas as pd\n",
    "from pathlib import Path\n",
    "import re\n",
    "from lxml import objectify\n",
    "from io import StringIO\n",
    "from typing import List\n",
    "import numpy as np"
   ]
  },
  {
   "cell_type": "code",
   "execution_count": 2,
   "id": "f08bcb71",
   "metadata": {},
   "outputs": [],
   "source": [
    "train_file = Path('klappentext_train.txt')"
   ]
  },
  {
   "cell_type": "code",
   "execution_count": 17,
   "id": "1ed93cb9",
   "metadata": {},
   "outputs": [
    {
     "data": {
      "text/plain": [
       "'C:\\\\Users\\\\arebmann\\\\Documents\\\\Python Scripts\\\\buecher_genres\\\\notebooks'"
      ]
     },
     "execution_count": 17,
     "metadata": {},
     "output_type": "execute_result"
    }
   ],
   "source": [
    "pwd()"
   ]
  },
  {
   "cell_type": "code",
   "execution_count": 3,
   "id": "dac56d97",
   "metadata": {},
   "outputs": [],
   "source": [
    "train_data = train_file.read_text(encoding='utf-8')"
   ]
  },
  {
   "cell_type": "code",
   "execution_count": 4,
   "id": "cdbd3a42",
   "metadata": {},
   "outputs": [],
   "source": [
    "train_data = train_data.replace('&', '&amp;')"
   ]
  },
  {
   "cell_type": "code",
   "execution_count": 5,
   "id": "52cc7908",
   "metadata": {},
   "outputs": [],
   "source": [
    "train_data = '<books>\\n' + train_data + '\\n</books>' "
   ]
  },
  {
   "cell_type": "code",
   "execution_count": 6,
   "id": "e4b20274",
   "metadata": {},
   "outputs": [],
   "source": [
    "df_genres = pd.read_xml(train_data)"
   ]
  },
  {
   "cell_type": "code",
   "execution_count": 7,
   "id": "42066f83",
   "metadata": {},
   "outputs": [
    {
     "data": {
      "text/html": [
       "<div>\n",
       "<style scoped>\n",
       "    .dataframe tbody tr th:only-of-type {\n",
       "        vertical-align: middle;\n",
       "    }\n",
       "\n",
       "    .dataframe tbody tr th {\n",
       "        vertical-align: top;\n",
       "    }\n",
       "\n",
       "    .dataframe thead th {\n",
       "        text-align: right;\n",
       "    }\n",
       "</style>\n",
       "<table border=\"1\" class=\"dataframe\">\n",
       "  <thead>\n",
       "    <tr style=\"text-align: right;\">\n",
       "      <th></th>\n",
       "      <th>date</th>\n",
       "      <th>{http://www.w3.org/XML/1998/namespace}lang</th>\n",
       "      <th>title</th>\n",
       "      <th>body</th>\n",
       "      <th>copyright</th>\n",
       "      <th>categories</th>\n",
       "      <th>authors</th>\n",
       "      <th>published</th>\n",
       "      <th>isbn</th>\n",
       "      <th>url</th>\n",
       "    </tr>\n",
       "  </thead>\n",
       "  <tbody>\n",
       "    <tr>\n",
       "      <th>0</th>\n",
       "      <td>2019-01-04</td>\n",
       "      <td>de</td>\n",
       "      <td>Die Klinik</td>\n",
       "      <td>Ein Blick hinter die Kulissen eines Krankenhau...</td>\n",
       "      <td>(c) Verlagsgruppe Random House GmbH</td>\n",
       "      <td>NaN</td>\n",
       "      <td>Noah Gordon</td>\n",
       "      <td>2013-12-02</td>\n",
       "      <td>9783641136291</td>\n",
       "      <td>https://www.randomhouse.de/ebook/Die-Klinik/No...</td>\n",
       "    </tr>\n",
       "    <tr>\n",
       "      <th>1</th>\n",
       "      <td>2019-01-04</td>\n",
       "      <td>de</td>\n",
       "      <td>Die Erben von Midkemia 4</td>\n",
       "      <td>Die Bedrohungen für Midkemia und Kelewan wolle...</td>\n",
       "      <td>(c) Verlagsgruppe Random House GmbH</td>\n",
       "      <td>NaN</td>\n",
       "      <td>Raymond Feist</td>\n",
       "      <td>2016-06-20</td>\n",
       "      <td>9783641185787</td>\n",
       "      <td>https://www.randomhouse.de/ebook/Die-Erben-von...</td>\n",
       "    </tr>\n",
       "    <tr>\n",
       "      <th>2</th>\n",
       "      <td>2019-01-04</td>\n",
       "      <td>de</td>\n",
       "      <td>Völlig losgelöst</td>\n",
       "      <td>In der Dreizimmerwohnung stapeln sich Flohmark...</td>\n",
       "      <td>(c) Verlagsgruppe Random House GmbH</td>\n",
       "      <td>NaN</td>\n",
       "      <td>Susanne Weingarten</td>\n",
       "      <td>2019-01-14</td>\n",
       "      <td>9783328103646</td>\n",
       "      <td>https://www.randomhouse.de/Taschenbuch/Voellig...</td>\n",
       "    </tr>\n",
       "    <tr>\n",
       "      <th>3</th>\n",
       "      <td>2019-01-04</td>\n",
       "      <td>de</td>\n",
       "      <td>Dich erfüllen</td>\n",
       "      <td>An der Seite von Damien fühlt sich Nikki zum e...</td>\n",
       "      <td>(c) Verlagsgruppe Random House GmbH</td>\n",
       "      <td>NaN</td>\n",
       "      <td>J. Kenner</td>\n",
       "      <td>2014-04-14</td>\n",
       "      <td>9783453357792</td>\n",
       "      <td>https://www.randomhouse.de/Taschenbuch/Dich-er...</td>\n",
       "    </tr>\n",
       "    <tr>\n",
       "      <th>4</th>\n",
       "      <td>2019-01-04</td>\n",
       "      <td>de</td>\n",
       "      <td>Der Orientzyklus</td>\n",
       "      <td>Wer Kara Ben Nemsi, Hadschi Halef Omar und Sir...</td>\n",
       "      <td>(c) Verlagsgruppe Random House GmbH</td>\n",
       "      <td>NaN</td>\n",
       "      <td>Karl May</td>\n",
       "      <td>2007-08-13</td>\n",
       "      <td>9783844504958</td>\n",
       "      <td>https://www.randomhouse.de/Hoerbuch-Download/D...</td>\n",
       "    </tr>\n",
       "  </tbody>\n",
       "</table>\n",
       "</div>"
      ],
      "text/plain": [
       "         date {http://www.w3.org/XML/1998/namespace}lang  \\\n",
       "0  2019-01-04                                         de   \n",
       "1  2019-01-04                                         de   \n",
       "2  2019-01-04                                         de   \n",
       "3  2019-01-04                                         de   \n",
       "4  2019-01-04                                         de   \n",
       "\n",
       "                      title  \\\n",
       "0                Die Klinik   \n",
       "1  Die Erben von Midkemia 4   \n",
       "2          Völlig losgelöst   \n",
       "3             Dich erfüllen   \n",
       "4          Der Orientzyklus   \n",
       "\n",
       "                                                body  \\\n",
       "0  Ein Blick hinter die Kulissen eines Krankenhau...   \n",
       "1  Die Bedrohungen für Midkemia und Kelewan wolle...   \n",
       "2  In der Dreizimmerwohnung stapeln sich Flohmark...   \n",
       "3  An der Seite von Damien fühlt sich Nikki zum e...   \n",
       "4  Wer Kara Ben Nemsi, Hadschi Halef Omar und Sir...   \n",
       "\n",
       "                             copyright  categories             authors  \\\n",
       "0  (c) Verlagsgruppe Random House GmbH         NaN         Noah Gordon   \n",
       "1  (c) Verlagsgruppe Random House GmbH         NaN       Raymond Feist   \n",
       "2  (c) Verlagsgruppe Random House GmbH         NaN  Susanne Weingarten   \n",
       "3  (c) Verlagsgruppe Random House GmbH         NaN           J. Kenner   \n",
       "4  (c) Verlagsgruppe Random House GmbH         NaN            Karl May   \n",
       "\n",
       "    published           isbn  \\\n",
       "0  2013-12-02  9783641136291   \n",
       "1  2016-06-20  9783641185787   \n",
       "2  2019-01-14  9783328103646   \n",
       "3  2014-04-14  9783453357792   \n",
       "4  2007-08-13  9783844504958   \n",
       "\n",
       "                                                 url  \n",
       "0  https://www.randomhouse.de/ebook/Die-Klinik/No...  \n",
       "1  https://www.randomhouse.de/ebook/Die-Erben-von...  \n",
       "2  https://www.randomhouse.de/Taschenbuch/Voellig...  \n",
       "3  https://www.randomhouse.de/Taschenbuch/Dich-er...  \n",
       "4  https://www.randomhouse.de/Hoerbuch-Download/D...  "
      ]
     },
     "execution_count": 7,
     "metadata": {},
     "output_type": "execute_result"
    }
   ],
   "source": [
    "df_genres.head()"
   ]
  },
  {
   "cell_type": "code",
   "execution_count": 118,
   "id": "71f4f247",
   "metadata": {},
   "outputs": [],
   "source": []
  },
  {
   "cell_type": "code",
   "execution_count": 8,
   "id": "b432e6fd",
   "metadata": {
    "scrolled": true
   },
   "outputs": [],
   "source": [
    "xml = objectify.parse(StringIO(train_data))"
   ]
  },
  {
   "cell_type": "code",
   "execution_count": 9,
   "id": "02bf6e6a",
   "metadata": {},
   "outputs": [],
   "source": [
    "root = xml.getroot()"
   ]
  },
  {
   "cell_type": "code",
   "execution_count": 10,
   "id": "df69d55e",
   "metadata": {},
   "outputs": [],
   "source": [
    "def get_topics(root_element):\n",
    "    cat_list = []\n",
    "    for obj in root_element.getchildren():\n",
    "        isbn = obj.isbn.text\n",
    "        topics = [cat.getchildren() for cat in obj.getchildren()[3].category]\n",
    "\n",
    "        for topic_elem in topics:\n",
    "\n",
    "            # check every list, check single elements\n",
    "            if len(topic_elem) == 1:\n",
    "                topic_list = [topic.text for topic in topic_elem] + ['', '']\n",
    "            elif len(topic_elem) == 2:\n",
    "                topic_list = [topic.text for topic in topic_elem] + ['']\n",
    "            else:\n",
    "                topic_list = [topic.text for topic in topic_elem]\n",
    "            cat_list.append((isbn, *topic_list)) \n",
    "    return cat_list"
   ]
  },
  {
   "cell_type": "code",
   "execution_count": 11,
   "id": "b5075618",
   "metadata": {
    "scrolled": true
   },
   "outputs": [],
   "source": [
    "train_topics = get_topics(root)\n"
   ]
  },
  {
   "cell_type": "code",
   "execution_count": 12,
   "id": "3d674dfe",
   "metadata": {
    "scrolled": true
   },
   "outputs": [],
   "source": [
    "df_topics = pd.DataFrame(train_topics, columns=['isbn', 'topic0', 'topic1', 'topic2'])\n",
    "df_topics = df_topics.replace(r'', np.nan)"
   ]
  },
  {
   "cell_type": "code",
   "execution_count": 13,
   "id": "a76fff98",
   "metadata": {},
   "outputs": [
    {
     "data": {
      "text/html": [
       "<div>\n",
       "<style scoped>\n",
       "    .dataframe tbody tr th:only-of-type {\n",
       "        vertical-align: middle;\n",
       "    }\n",
       "\n",
       "    .dataframe tbody tr th {\n",
       "        vertical-align: top;\n",
       "    }\n",
       "\n",
       "    .dataframe thead th {\n",
       "        text-align: right;\n",
       "    }\n",
       "</style>\n",
       "<table border=\"1\" class=\"dataframe\">\n",
       "  <thead>\n",
       "    <tr style=\"text-align: right;\">\n",
       "      <th></th>\n",
       "      <th>isbn</th>\n",
       "      <th>topic0</th>\n",
       "      <th>topic1</th>\n",
       "      <th>topic2</th>\n",
       "    </tr>\n",
       "  </thead>\n",
       "  <tbody>\n",
       "    <tr>\n",
       "      <th>count</th>\n",
       "      <td>21169</td>\n",
       "      <td>21169</td>\n",
       "      <td>20812</td>\n",
       "      <td>10062</td>\n",
       "    </tr>\n",
       "    <tr>\n",
       "      <th>unique</th>\n",
       "      <td>14548</td>\n",
       "      <td>8</td>\n",
       "      <td>93</td>\n",
       "      <td>242</td>\n",
       "    </tr>\n",
       "    <tr>\n",
       "      <th>top</th>\n",
       "      <td>9783641196882</td>\n",
       "      <td>Literatur &amp; Unterhaltung</td>\n",
       "      <td>Romane &amp; Erzählungen</td>\n",
       "      <td>Große Gefühle</td>\n",
       "    </tr>\n",
       "    <tr>\n",
       "      <th>freq</th>\n",
       "      <td>10</td>\n",
       "      <td>9136</td>\n",
       "      <td>2446</td>\n",
       "      <td>393</td>\n",
       "    </tr>\n",
       "  </tbody>\n",
       "</table>\n",
       "</div>"
      ],
      "text/plain": [
       "                 isbn                    topic0                topic1  \\\n",
       "count           21169                     21169                 20812   \n",
       "unique          14548                         8                    93   \n",
       "top     9783641196882  Literatur & Unterhaltung  Romane & Erzählungen   \n",
       "freq               10                      9136                  2446   \n",
       "\n",
       "               topic2  \n",
       "count           10062  \n",
       "unique            242  \n",
       "top     Große Gefühle  \n",
       "freq              393  "
      ]
     },
     "execution_count": 13,
     "metadata": {},
     "output_type": "execute_result"
    }
   ],
   "source": [
    "df_topics.describe()"
   ]
  },
  {
   "cell_type": "code",
   "execution_count": 22,
   "id": "1c994da2",
   "metadata": {},
   "outputs": [
    {
     "data": {
      "text/plain": [
       "<AxesSubplot:xlabel='topic0'>"
      ]
     },
     "execution_count": 22,
     "metadata": {},
     "output_type": "execute_result"
    },
    {
     "data": {
      "image/png": "[encoded data removed]",
      "text/plain": [
       "<Figure size 432x288 with 1 Axes>"
      ]
     },
     "metadata": {
      "needs_background": "light"
     },
     "output_type": "display_data"
    }
   ],
   "source": [
    "df_topics[['isbn', 'topic0']].drop_duplicates().groupby('topic0').count().plot(kind='bar')"
   ]
  },
  {
   "cell_type": "code",
   "execution_count": 23,
   "id": "d46677bb",
   "metadata": {
    "scrolled": false
   },
   "outputs": [],
   "source": [
    "df_topics['idx'] = df_topics.groupby('isbn').cumcount()\n",
    "df_topics.pivot(index='isbn', columns='idx', values='topic0')"
   ]
  },
  {
   "cell_type": "code",
   "execution_count": 31,
   "id": "62014907",
   "metadata": {
    "scrolled": false
   },
   "outputs": [],
   "source": [
    "df_topics_reshaped = df_topics.drop_duplicates(subset=['isbn', 'topic0']).pivot(index='isbn', columns='idx', values='topic0')\n",
    "df_topics_reshaped.columns = ['topic0_0', 'topic0_1', 'topic0_2', 'topic0_3', 'topic0_4', 'topic0_5', 'topic0_6']"
   ]
  },
  {
   "cell_type": "code",
   "execution_count": 34,
   "id": "11dd389d",
   "metadata": {},
   "outputs": [],
   "source": [
    "test = df_topics_reshaped.apply(lambda x: x.dropna().tolist(), axis=1)"
   ]
  },
  {
   "cell_type": "code",
   "execution_count": 35,
   "id": "9d690805",
   "metadata": {},
   "outputs": [
    {
     "data": {
      "text/plain": [
       "[['Kinderbuch & Jugendbuch'],\n",
       " ['Kinderbuch & Jugendbuch'],\n",
       " ['Kinderbuch & Jugendbuch'],\n",
       " ['Kinderbuch & Jugendbuch'],\n",
       " ['Kinderbuch & Jugendbuch'],\n",
       " ['Kinderbuch & Jugendbuch'],\n",
       " ['Kinderbuch & Jugendbuch'],\n",
       " ['Kinderbuch & Jugendbuch'],\n",
       " ['Kinderbuch & Jugendbuch'],\n",
       " ['Kinderbuch & Jugendbuch'],\n",
       " ['Kinderbuch & Jugendbuch'],\n",
       " ['Kinderbuch & Jugendbuch'],\n",
       " ['Kinderbuch & Jugendbuch'],\n",
       " ['Kinderbuch & Jugendbuch'],\n",
       " ['Kinderbuch & Jugendbuch'],\n",
       " ['Kinderbuch & Jugendbuch'],\n",
       " ['Kinderbuch & Jugendbuch'],\n",
       " ['Kinderbuch & Jugendbuch'],\n",
       " ['Kinderbuch & Jugendbuch'],\n",
       " ['Kinderbuch & Jugendbuch'],\n",
       " ['Kinderbuch & Jugendbuch'],\n",
       " ['Kinderbuch & Jugendbuch'],\n",
       " ['Kinderbuch & Jugendbuch'],\n",
       " ['Kinderbuch & Jugendbuch'],\n",
       " ['Kinderbuch & Jugendbuch'],\n",
       " ['Kinderbuch & Jugendbuch'],\n",
       " ['Kinderbuch & Jugendbuch'],\n",
       " ['Kinderbuch & Jugendbuch'],\n",
       " ['Kinderbuch & Jugendbuch'],\n",
       " ['Kinderbuch & Jugendbuch'],\n",
       " ['Kinderbuch & Jugendbuch'],\n",
       " ['Kinderbuch & Jugendbuch'],\n",
       " ['Kinderbuch & Jugendbuch'],\n",
       " ['Kinderbuch & Jugendbuch'],\n",
       " ['Kinderbuch & Jugendbuch'],\n",
       " ['Kinderbuch & Jugendbuch'],\n",
       " ['Kinderbuch & Jugendbuch'],\n",
       " ['Kinderbuch & Jugendbuch'],\n",
       " ['Ganzheitliches Bewusstsein'],\n",
       " ['Ganzheitliches Bewusstsein'],\n",
       " ['Ganzheitliches Bewusstsein'],\n",
       " ['Ratgeber'],\n",
       " ['Ratgeber'],\n",
       " ['Literatur & Unterhaltung', 'Sachbuch'],\n",
       " ['Kinderbuch & Jugendbuch'],\n",
       " ['Literatur & Unterhaltung'],\n",
       " ['Literatur & Unterhaltung'],\n",
       " ['Literatur & Unterhaltung'],\n",
       " ['Sachbuch'],\n",
       " ['Sachbuch'],\n",
       " ['Literatur & Unterhaltung'],\n",
       " ['Sachbuch'],\n",
       " ['Literatur & Unterhaltung'],\n",
       " ['Literatur & Unterhaltung'],\n",
       " ['Literatur & Unterhaltung'],\n",
       " ['Literatur & Unterhaltung'],\n",
       " ['Literatur & Unterhaltung'],\n",
       " ['Literatur & Unterhaltung'],\n",
       " ['Literatur & Unterhaltung'],\n",
       " ['Literatur & Unterhaltung'],\n",
       " ['Literatur & Unterhaltung'],\n",
       " ['Sachbuch'],\n",
       " ['Sachbuch'],\n",
       " ['Sachbuch'],\n",
       " ['Sachbuch'],\n",
       " ['Literatur & Unterhaltung'],\n",
       " ['Literatur & Unterhaltung'],\n",
       " ['Literatur & Unterhaltung'],\n",
       " ['Literatur & Unterhaltung'],\n",
       " ['Literatur & Unterhaltung'],\n",
       " ['Literatur & Unterhaltung'],\n",
       " ['Literatur & Unterhaltung'],\n",
       " ['Literatur & Unterhaltung'],\n",
       " ['Literatur & Unterhaltung'],\n",
       " ['Literatur & Unterhaltung'],\n",
       " ['Literatur & Unterhaltung'],\n",
       " ['Ratgeber'],\n",
       " ['Sachbuch'],\n",
       " ['Literatur & Unterhaltung'],\n",
       " ['Literatur & Unterhaltung'],\n",
       " ['Sachbuch'],\n",
       " ['Literatur & Unterhaltung'],\n",
       " ['Literatur & Unterhaltung'],\n",
       " ['Sachbuch'],\n",
       " ['Literatur & Unterhaltung'],\n",
       " ['Literatur & Unterhaltung'],\n",
       " ['Sachbuch'],\n",
       " ['Literatur & Unterhaltung'],\n",
       " ['Sachbuch'],\n",
       " ['Literatur & Unterhaltung'],\n",
       " ['Sachbuch'],\n",
       " ['Literatur & Unterhaltung'],\n",
       " ['Sachbuch', 'Ratgeber'],\n",
       " ['Literatur & Unterhaltung'],\n",
       " ['Literatur & Unterhaltung'],\n",
       " ['Literatur & Unterhaltung'],\n",
       " ['Literatur & Unterhaltung'],\n",
       " ['Literatur & Unterhaltung'],\n",
       " ['Literatur & Unterhaltung'],\n",
       " ['Sachbuch']]"
      ]
     },
     "execution_count": 35,
     "metadata": {},
     "output_type": "execute_result"
    }
   ],
   "source": [
    "test.to_list()"
   ]
  }
 ],
 "metadata": {
  "kernelspec": {
   "display_name": "Python 3 (ipykernel)",
   "language": "python",
   "name": "python3"
  },
  "language_info": {
   "codemirror_mode": {
    "name": "ipython",
    "version": 3
   },
   "file_extension": ".py",
   "mimetype": "text/x-python",
   "name": "python",
   "nbconvert_exporter": "python",
   "pygments_lexer": "ipython3",
   "version": "3.8.10"
  }
 },
 "nbformat": 4,
 "nbformat_minor": 5
}
